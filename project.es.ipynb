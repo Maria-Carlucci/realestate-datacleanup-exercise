{
  "cells": [
    {
      "attachments": {},
      "cell_type": "markdown",
      "id": "innocent-university",
      "metadata": {},
      "source": [
        "# Limpieza de bienes raíces\n",
        "\n",
        "Este es un conjunto de datos (dataset) reales que fue descargado usando técnicas de web scraping. La data contiene registros de **Fotocasa**, el cual es uno de los sitios más populares de bienes raíces en España. Por favor no hagas esto (web scraping) a no ser que sea para propósitos académicos.\n",
        "\n",
        "El dataset fue descargado hace algunos años por Henry Navarro y en ningún caso se obtuvo beneficio económico de ello.\n",
        "\n",
        "Contiene miles de datos de casas reales publicadas en la web www.fotocasa.com. Tu objetivo es extraer tanta información como sea posible con el conocimiento que tienes hasta ahora de ciencia de datos, por ejemplo ¿cuál es la casa más cara en todo el dataset?\n",
        "\n",
        "Empecemos precisamente con esa pregunta... ¡Buena suerte!"
      ]
    },
    {
      "attachments": {},
      "cell_type": "markdown",
      "id": "multiple-glass",
      "metadata": {},
      "source": [
        "#### Ejercicio 00. Lee el dataset assets/real_estate.csv e intenta visualizar la tabla (★☆☆)"
      ]
    },
    {
      "cell_type": "code",
      "execution_count": 2,
      "id": "frank-heath",
      "metadata": {},
      "outputs": [
        {
          "data": {
            "text/html": [
              "<div>\n",
              "<style scoped>\n",
              "    .dataframe tbody tr th:only-of-type {\n",
              "        vertical-align: middle;\n",
              "    }\n",
              "\n",
              "    .dataframe tbody tr th {\n",
              "        vertical-align: top;\n",
              "    }\n",
              "\n",
              "    .dataframe thead th {\n",
              "        text-align: right;\n",
              "    }\n",
              "</style>\n",
              "<table border=\"1\" class=\"dataframe\">\n",
              "  <thead>\n",
              "    <tr style=\"text-align: right;\">\n",
              "      <th></th>\n",
              "      <th>Unnamed: 0</th>\n",
              "      <th>id_realEstates</th>\n",
              "      <th>isNew</th>\n",
              "      <th>realEstate_name</th>\n",
              "      <th>phone_realEstate</th>\n",
              "      <th>url_inmueble</th>\n",
              "      <th>rooms</th>\n",
              "      <th>bathrooms</th>\n",
              "      <th>surface</th>\n",
              "      <th>price</th>\n",
              "      <th>...</th>\n",
              "      <th>level4Id</th>\n",
              "      <th>level5Id</th>\n",
              "      <th>level6Id</th>\n",
              "      <th>level7Id</th>\n",
              "      <th>level8Id</th>\n",
              "      <th>accuracy</th>\n",
              "      <th>latitude</th>\n",
              "      <th>longitude</th>\n",
              "      <th>zipCode</th>\n",
              "      <th>customZone</th>\n",
              "    </tr>\n",
              "  </thead>\n",
              "  <tbody>\n",
              "    <tr>\n",
              "      <th>0</th>\n",
              "      <td>1</td>\n",
              "      <td>153771986</td>\n",
              "      <td>False</td>\n",
              "      <td>ferrari 57 inmobiliaria</td>\n",
              "      <td>912177526.0</td>\n",
              "      <td>https://www.fotocasa.es/es/comprar/vivienda/ma...</td>\n",
              "      <td>3.0</td>\n",
              "      <td>2.0</td>\n",
              "      <td>103.0</td>\n",
              "      <td>195000</td>\n",
              "      <td>...</td>\n",
              "      <td>0</td>\n",
              "      <td>0</td>\n",
              "      <td>0</td>\n",
              "      <td>0</td>\n",
              "      <td>0</td>\n",
              "      <td>0</td>\n",
              "      <td>40,2948276786438</td>\n",
              "      <td>-3,44402412135624</td>\n",
              "      <td>NaN</td>\n",
              "      <td>NaN</td>\n",
              "    </tr>\n",
              "    <tr>\n",
              "      <th>1</th>\n",
              "      <td>2</td>\n",
              "      <td>153867863</td>\n",
              "      <td>False</td>\n",
              "      <td>tecnocasa fuenlabrada ferrocarril</td>\n",
              "      <td>916358736.0</td>\n",
              "      <td>https://www.fotocasa.es/es/comprar/vivienda/ma...</td>\n",
              "      <td>3.0</td>\n",
              "      <td>1.0</td>\n",
              "      <td>NaN</td>\n",
              "      <td>89000</td>\n",
              "      <td>...</td>\n",
              "      <td>0</td>\n",
              "      <td>0</td>\n",
              "      <td>0</td>\n",
              "      <td>0</td>\n",
              "      <td>0</td>\n",
              "      <td>1</td>\n",
              "      <td>40,28674</td>\n",
              "      <td>-3,79351</td>\n",
              "      <td>NaN</td>\n",
              "      <td>NaN</td>\n",
              "    </tr>\n",
              "    <tr>\n",
              "      <th>2</th>\n",
              "      <td>3</td>\n",
              "      <td>153430440</td>\n",
              "      <td>False</td>\n",
              "      <td>look find boadilla</td>\n",
              "      <td>916350408.0</td>\n",
              "      <td>https://www.fotocasa.es/es/comprar/vivienda/ma...</td>\n",
              "      <td>2.0</td>\n",
              "      <td>2.0</td>\n",
              "      <td>99.0</td>\n",
              "      <td>390000</td>\n",
              "      <td>...</td>\n",
              "      <td>0</td>\n",
              "      <td>0</td>\n",
              "      <td>0</td>\n",
              "      <td>0</td>\n",
              "      <td>0</td>\n",
              "      <td>0</td>\n",
              "      <td>40,4115646786438</td>\n",
              "      <td>-3,90662252135624</td>\n",
              "      <td>NaN</td>\n",
              "      <td>NaN</td>\n",
              "    </tr>\n",
              "    <tr>\n",
              "      <th>3</th>\n",
              "      <td>4</td>\n",
              "      <td>152776331</td>\n",
              "      <td>False</td>\n",
              "      <td>tecnocasa fuenlabrada ferrocarril</td>\n",
              "      <td>916358736.0</td>\n",
              "      <td>https://www.fotocasa.es/es/comprar/vivienda/ma...</td>\n",
              "      <td>3.0</td>\n",
              "      <td>1.0</td>\n",
              "      <td>86.0</td>\n",
              "      <td>89000</td>\n",
              "      <td>...</td>\n",
              "      <td>0</td>\n",
              "      <td>0</td>\n",
              "      <td>0</td>\n",
              "      <td>0</td>\n",
              "      <td>0</td>\n",
              "      <td>0</td>\n",
              "      <td>40,2853785786438</td>\n",
              "      <td>-3,79508142135624</td>\n",
              "      <td>NaN</td>\n",
              "      <td>NaN</td>\n",
              "    </tr>\n",
              "    <tr>\n",
              "      <th>4</th>\n",
              "      <td>5</td>\n",
              "      <td>153180188</td>\n",
              "      <td>False</td>\n",
              "      <td>ferrari 57 inmobiliaria</td>\n",
              "      <td>912177526.0</td>\n",
              "      <td>https://www.fotocasa.es/es/comprar/vivienda/ma...</td>\n",
              "      <td>2.0</td>\n",
              "      <td>2.0</td>\n",
              "      <td>106.0</td>\n",
              "      <td>172000</td>\n",
              "      <td>...</td>\n",
              "      <td>0</td>\n",
              "      <td>0</td>\n",
              "      <td>0</td>\n",
              "      <td>0</td>\n",
              "      <td>0</td>\n",
              "      <td>0</td>\n",
              "      <td>40,2998774864376</td>\n",
              "      <td>-3,45226301356237</td>\n",
              "      <td>NaN</td>\n",
              "      <td>NaN</td>\n",
              "    </tr>\n",
              "    <tr>\n",
              "      <th>...</th>\n",
              "      <td>...</td>\n",
              "      <td>...</td>\n",
              "      <td>...</td>\n",
              "      <td>...</td>\n",
              "      <td>...</td>\n",
              "      <td>...</td>\n",
              "      <td>...</td>\n",
              "      <td>...</td>\n",
              "      <td>...</td>\n",
              "      <td>...</td>\n",
              "      <td>...</td>\n",
              "      <td>...</td>\n",
              "      <td>...</td>\n",
              "      <td>...</td>\n",
              "      <td>...</td>\n",
              "      <td>...</td>\n",
              "      <td>...</td>\n",
              "      <td>...</td>\n",
              "      <td>...</td>\n",
              "      <td>...</td>\n",
              "      <td>...</td>\n",
              "    </tr>\n",
              "    <tr>\n",
              "      <th>15330</th>\n",
              "      <td>15331</td>\n",
              "      <td>153901377</td>\n",
              "      <td>False</td>\n",
              "      <td>infocasa consulting</td>\n",
              "      <td>911360461.0</td>\n",
              "      <td>https://www.fotocasa.es/es/comprar/vivienda/ma...</td>\n",
              "      <td>2.0</td>\n",
              "      <td>1.0</td>\n",
              "      <td>96.0</td>\n",
              "      <td>259470</td>\n",
              "      <td>...</td>\n",
              "      <td>0</td>\n",
              "      <td>0</td>\n",
              "      <td>0</td>\n",
              "      <td>0</td>\n",
              "      <td>0</td>\n",
              "      <td>0</td>\n",
              "      <td>40,45416</td>\n",
              "      <td>-3,70286</td>\n",
              "      <td>NaN</td>\n",
              "      <td>NaN</td>\n",
              "    </tr>\n",
              "    <tr>\n",
              "      <th>15331</th>\n",
              "      <td>15332</td>\n",
              "      <td>150394373</td>\n",
              "      <td>False</td>\n",
              "      <td>inmobiliaria pulpon</td>\n",
              "      <td>912788039.0</td>\n",
              "      <td>https://www.fotocasa.es/es/comprar/vivienda/ma...</td>\n",
              "      <td>3.0</td>\n",
              "      <td>1.0</td>\n",
              "      <td>150.0</td>\n",
              "      <td>165000</td>\n",
              "      <td>...</td>\n",
              "      <td>0</td>\n",
              "      <td>0</td>\n",
              "      <td>0</td>\n",
              "      <td>0</td>\n",
              "      <td>0</td>\n",
              "      <td>0</td>\n",
              "      <td>40,36652</td>\n",
              "      <td>-3,48951</td>\n",
              "      <td>NaN</td>\n",
              "      <td>NaN</td>\n",
              "    </tr>\n",
              "    <tr>\n",
              "      <th>15332</th>\n",
              "      <td>15333</td>\n",
              "      <td>153901397</td>\n",
              "      <td>False</td>\n",
              "      <td>tecnocasa torrelodones</td>\n",
              "      <td>912780348.0</td>\n",
              "      <td>https://www.fotocasa.es/es/comprar/vivienda/ma...</td>\n",
              "      <td>4.0</td>\n",
              "      <td>2.0</td>\n",
              "      <td>175.0</td>\n",
              "      <td>495000</td>\n",
              "      <td>...</td>\n",
              "      <td>0</td>\n",
              "      <td>0</td>\n",
              "      <td>0</td>\n",
              "      <td>0</td>\n",
              "      <td>0</td>\n",
              "      <td>0</td>\n",
              "      <td>40,57444</td>\n",
              "      <td>-3,92124</td>\n",
              "      <td>NaN</td>\n",
              "      <td>NaN</td>\n",
              "    </tr>\n",
              "    <tr>\n",
              "      <th>15333</th>\n",
              "      <td>15334</td>\n",
              "      <td>152607440</td>\n",
              "      <td>False</td>\n",
              "      <td>inmobiliaria pulpon</td>\n",
              "      <td>912788039.0</td>\n",
              "      <td>https://www.fotocasa.es/es/comprar/vivienda/ma...</td>\n",
              "      <td>3.0</td>\n",
              "      <td>2.0</td>\n",
              "      <td>101.0</td>\n",
              "      <td>195000</td>\n",
              "      <td>...</td>\n",
              "      <td>0</td>\n",
              "      <td>0</td>\n",
              "      <td>0</td>\n",
              "      <td>0</td>\n",
              "      <td>0</td>\n",
              "      <td>0</td>\n",
              "      <td>40,36967</td>\n",
              "      <td>-3,48105</td>\n",
              "      <td>NaN</td>\n",
              "      <td>NaN</td>\n",
              "    </tr>\n",
              "    <tr>\n",
              "      <th>15334</th>\n",
              "      <td>15335</td>\n",
              "      <td>153901356</td>\n",
              "      <td>False</td>\n",
              "      <td>infocasa consulting</td>\n",
              "      <td>911360461.0</td>\n",
              "      <td>https://www.fotocasa.es/es/comprar/vivienda/ma...</td>\n",
              "      <td>3.0</td>\n",
              "      <td>2.0</td>\n",
              "      <td>152.0</td>\n",
              "      <td>765000</td>\n",
              "      <td>...</td>\n",
              "      <td>0</td>\n",
              "      <td>0</td>\n",
              "      <td>0</td>\n",
              "      <td>0</td>\n",
              "      <td>0</td>\n",
              "      <td>0</td>\n",
              "      <td>40,45773</td>\n",
              "      <td>-3,69068</td>\n",
              "      <td>NaN</td>\n",
              "      <td>NaN</td>\n",
              "    </tr>\n",
              "  </tbody>\n",
              "</table>\n",
              "<p>15335 rows × 37 columns</p>\n",
              "</div>"
            ],
            "text/plain": [
              "       Unnamed: 0  id_realEstates  isNew                    realEstate_name  \\\n",
              "0               1       153771986  False            ferrari 57 inmobiliaria   \n",
              "1               2       153867863  False  tecnocasa fuenlabrada ferrocarril   \n",
              "2               3       153430440  False                 look find boadilla   \n",
              "3               4       152776331  False  tecnocasa fuenlabrada ferrocarril   \n",
              "4               5       153180188  False            ferrari 57 inmobiliaria   \n",
              "...           ...             ...    ...                                ...   \n",
              "15330       15331       153901377  False                infocasa consulting   \n",
              "15331       15332       150394373  False                inmobiliaria pulpon   \n",
              "15332       15333       153901397  False             tecnocasa torrelodones   \n",
              "15333       15334       152607440  False                inmobiliaria pulpon   \n",
              "15334       15335       153901356  False                infocasa consulting   \n",
              "\n",
              "       phone_realEstate                                       url_inmueble  \\\n",
              "0           912177526.0  https://www.fotocasa.es/es/comprar/vivienda/ma...   \n",
              "1           916358736.0  https://www.fotocasa.es/es/comprar/vivienda/ma...   \n",
              "2           916350408.0  https://www.fotocasa.es/es/comprar/vivienda/ma...   \n",
              "3           916358736.0  https://www.fotocasa.es/es/comprar/vivienda/ma...   \n",
              "4           912177526.0  https://www.fotocasa.es/es/comprar/vivienda/ma...   \n",
              "...                 ...                                                ...   \n",
              "15330       911360461.0  https://www.fotocasa.es/es/comprar/vivienda/ma...   \n",
              "15331       912788039.0  https://www.fotocasa.es/es/comprar/vivienda/ma...   \n",
              "15332       912780348.0  https://www.fotocasa.es/es/comprar/vivienda/ma...   \n",
              "15333       912788039.0  https://www.fotocasa.es/es/comprar/vivienda/ma...   \n",
              "15334       911360461.0  https://www.fotocasa.es/es/comprar/vivienda/ma...   \n",
              "\n",
              "       rooms  bathrooms  surface   price  ... level4Id level5Id level6Id  \\\n",
              "0        3.0        2.0    103.0  195000  ...        0        0        0   \n",
              "1        3.0        1.0      NaN   89000  ...        0        0        0   \n",
              "2        2.0        2.0     99.0  390000  ...        0        0        0   \n",
              "3        3.0        1.0     86.0   89000  ...        0        0        0   \n",
              "4        2.0        2.0    106.0  172000  ...        0        0        0   \n",
              "...      ...        ...      ...     ...  ...      ...      ...      ...   \n",
              "15330    2.0        1.0     96.0  259470  ...        0        0        0   \n",
              "15331    3.0        1.0    150.0  165000  ...        0        0        0   \n",
              "15332    4.0        2.0    175.0  495000  ...        0        0        0   \n",
              "15333    3.0        2.0    101.0  195000  ...        0        0        0   \n",
              "15334    3.0        2.0    152.0  765000  ...        0        0        0   \n",
              "\n",
              "      level7Id level8Id accuracy          latitude          longitude zipCode  \\\n",
              "0            0        0        0  40,2948276786438  -3,44402412135624     NaN   \n",
              "1            0        0        1          40,28674           -3,79351     NaN   \n",
              "2            0        0        0  40,4115646786438  -3,90662252135624     NaN   \n",
              "3            0        0        0  40,2853785786438  -3,79508142135624     NaN   \n",
              "4            0        0        0  40,2998774864376  -3,45226301356237     NaN   \n",
              "...        ...      ...      ...               ...                ...     ...   \n",
              "15330        0        0        0          40,45416           -3,70286     NaN   \n",
              "15331        0        0        0          40,36652           -3,48951     NaN   \n",
              "15332        0        0        0          40,57444           -3,92124     NaN   \n",
              "15333        0        0        0          40,36967           -3,48105     NaN   \n",
              "15334        0        0        0          40,45773           -3,69068     NaN   \n",
              "\n",
              "      customZone  \n",
              "0            NaN  \n",
              "1            NaN  \n",
              "2            NaN  \n",
              "3            NaN  \n",
              "4            NaN  \n",
              "...          ...  \n",
              "15330        NaN  \n",
              "15331        NaN  \n",
              "15332        NaN  \n",
              "15333        NaN  \n",
              "15334        NaN  \n",
              "\n",
              "[15335 rows x 37 columns]"
            ]
          },
          "execution_count": 2,
          "metadata": {},
          "output_type": "execute_result"
        }
      ],
      "source": [
        "import numpy as np\n",
        "import pandas as pd\n",
        "import matplotlib.pyplot as plt\n",
        "from sklearn.preprocessing import MinMaxScaler\n",
        "\n",
        "# Este archivo CSV contiene puntos y comas en lugar de comas como separadores\n",
        "ds = pd.read_csv('assets/real_estate.csv', sep=';')\n",
        "ds"
      ]
    },
    {
      "attachments": {},
      "cell_type": "markdown",
      "id": "latin-guest",
      "metadata": {},
      "source": [
        "#### Ejercicio 01. ¿Cuál es la casa más cara en todo el dataset? (★☆☆)\n",
        "\n",
        "Imprime la dirección y el precio de la casa seleccionada. Por ejemplo:\n",
        "\n",
        "`La casa con dirección en Calle del Prado, Nº20 es la más cara y su precio es de 5000000 USD`"
      ]
    },
    {
      "cell_type": "code",
      "execution_count": 3,
      "id": "developing-optimum",
      "metadata": {},
      "outputs": [
        {
          "name": "stdout",
          "output_type": "stream",
          "text": [
            "La casa con direccion El Escorial es la mas cara y su precio es de 8500000 USD\n"
          ]
        }
      ],
      "source": [
        "# TODO\n",
        "indice = ds['price'].idxmax()\n",
        "direccion = ds.iloc[indice,12]\n",
        "precio = ds.iloc[indice,9]\n",
        "print('La casa con direccion',direccion,'es la mas cara y su precio es de',precio,'USD')"
      ]
    },
    {
      "attachments": {},
      "cell_type": "markdown",
      "id": "lesser-cosmetic",
      "metadata": {},
      "source": [
        "#### Ejercicio 02. ¿Cuál es la casa más barata del dataset? (★☆☆)\n",
        "\n",
        "Imprime la dirección y el precio de la casa seleccionada. Por ejemplo:\n",
        "\n",
        "`La casa con dirección en Calle Alcalá, Nº58 es la más barata y su precio es de 12000 USD`"
      ]
    },
    {
      "cell_type": "code",
      "execution_count": 4,
      "id": "lovely-oasis",
      "metadata": {},
      "outputs": [
        {
          "name": "stdout",
          "output_type": "stream",
          "text": [
            "La casa con direccion Parla es la mas barata y su precio es de 4.0 USD\n"
          ]
        }
      ],
      "source": [
        "# TODO\n",
        "indicemin = ds['price'].idxmin()\n",
        "direccion = ds.iloc[indicemin,12]\n",
        "precio = ds.iloc[indicemin,6]\n",
        "print('La casa con direccion',direccion,'es la mas barata y su precio es de',precio,'USD')"
      ]
    },
    {
      "attachments": {},
      "cell_type": "markdown",
      "id": "compliant-fellowship",
      "metadata": {},
      "source": [
        "#### Ejercicio 03. ¿Cuál es la casa más grande y la más pequeña del dataset? (★☆☆)\n",
        "\n",
        "Imprime la dirección y el área de las casas seleccionadas. Por ejemplo:\n",
        "\n",
        "`La casa más grande está ubicada en Calle Gran Vía, Nº38 y su superficie es de 5000 metros`\n",
        "\n",
        "`La casa más pequeña está ubicada en Calle Mayor, Nº12 y su superficie es de 200 metros`"
      ]
    },
    {
      "cell_type": "code",
      "execution_count": 5,
      "id": "every-tiffany",
      "metadata": {},
      "outputs": [
        {
          "name": "stdout",
          "output_type": "stream",
          "text": [
            "La casa mas grande esta ubicada en Sevilla la Nueva y su superficie es de 249000.0 metros\n",
            "La casa mas pequeña esta ubicada en Calle Amparo,  Madrid Capital y su superficie es de 15.0 metros\n"
          ]
        }
      ],
      "source": [
        "# TODO\n",
        "indicesupmax = ds['surface'].idxmax()\n",
        "direccion = ds.iloc[indicesupmax,12]\n",
        "superficie = ds.iloc[indicesupmax,8]\n",
        "print('La casa mas grande esta ubicada en',direccion,'y su superficie es de',superficie,'metros')\n",
        "indicesupmin = ds['surface'].idxmin()\n",
        "direccion = ds.iloc[indicesupmin,12]\n",
        "superficie = ds.iloc[indicesupmin,8]\n",
        "print('La casa mas pequeña esta ubicada en',direccion,'y su superficie es de',superficie,'metros')"
      ]
    },
    {
      "attachments": {},
      "cell_type": "markdown",
      "id": "danish-spirit",
      "metadata": {},
      "source": [
        "#### Ejercicio 04. ¿Cuantas poblaciones (columna level5) contiene el dataset? (★☆☆)\n",
        "\n",
        "Imprime el nombre de las poblaciones separadas por coma. Por ejemplo:\n",
        "\n",
        "`> print(populations)`\n",
        "\n",
        "`population1, population2, population3, ...`"
      ]
    },
    {
      "cell_type": "code",
      "execution_count": 6,
      "id": "exciting-accreditation",
      "metadata": {},
      "outputs": [
        {
          "name": "stdout",
          "output_type": "stream",
          "text": [
            "El Dataset contiene 168 poblaciones\n",
            "Arganda del Rey ,\n",
            "Fuenlabrada ,\n",
            "Boadilla del Monte ,\n",
            "Las Rozas de Madrid ,\n",
            " Madrid Capital ,\n",
            "Villaviciosa de Odón ,\n",
            "Pinto ,\n",
            "Valdemoro ,\n",
            "Navalcarnero ,\n",
            "Pozuelo de Alarcón ,\n",
            "Torrejón de Ardoz ,\n",
            "Navalagamella ,\n",
            "San Sebastián de los Reyes ,\n",
            "Rivas-vaciamadrid ,\n",
            "Alpedrete ,\n",
            "Móstoles ,\n",
            "San Fernando de Henares ,\n",
            "Coslada ,\n",
            "Becerril de la Sierra ,\n",
            "Alcalá de Henares ,\n",
            "Chinchón ,\n",
            "Parla ,\n",
            "Alcorcón ,\n",
            "El Escorial ,\n",
            "Leganés ,\n",
            "Pedrezuela ,\n",
            "Majadahonda ,\n",
            "Villanueva de la Cañada ,\n",
            "Villanueva del Pardillo ,\n",
            "Torrelodones ,\n",
            "Moralzarzal ,\n",
            "Mejorada del Campo ,\n",
            "Aranjuez ,\n",
            "Corpa ,\n",
            "Getafe ,\n",
            "Velilla de San Antonio ,\n",
            "Sevilla la Nueva ,\n",
            "San Martín de la Vega ,\n",
            "Villalbilla ,\n",
            "Collado Villalba ,\n",
            "Alcobendas ,\n",
            "El Molar (Madrid) ,\n",
            "Moraleja de Enmedio ,\n",
            "Algete ,\n",
            "Campo Real ,\n",
            "Torrejón de la Calzada ,\n",
            "Colmenar Viejo ,\n",
            "Valdemorillo ,\n",
            "Fuente El Saz de Jarama ,\n",
            "Tres Cantos ,\n",
            "Arroyomolinos (Madrid) ,\n",
            "Griñón ,\n",
            "Paracuellos de Jarama ,\n",
            "Guadarrama ,\n",
            "Titulcia ,\n",
            "Galapagar ,\n",
            "Collado Mediano ,\n",
            "Los Molinos ,\n",
            "San Lorenzo de El Escorial ,\n",
            "Loeches ,\n",
            "San Martín de Valdeiglesias ,\n",
            "Navas del Rey ,\n",
            "Bustarviejo ,\n",
            "Manzanares El Real ,\n",
            "Carabaña ,\n",
            "Casarrubuelos ,\n",
            "Cercedilla ,\n",
            "Fresnedillas de la Oliva ,\n",
            "Valdemaqueda ,\n",
            "Robledo de Chavela ,\n",
            "Miraflores de la Sierra ,\n",
            "Humanes de Madrid ,\n",
            "Valdetorres de Jarama ,\n",
            "San Agustín del Guadalix ,\n",
            "Ciempozuelos ,\n",
            "Camarma de Esteruelas ,\n",
            "Torres de la Alameda ,\n",
            "Talamanca de Jarama ,\n",
            "El Atazar ,\n",
            "Hoyo de Manzanares ,\n",
            "El Boalo - Cerceda – Mataelpino ,\n",
            "El Álamo ,\n",
            "Valdilecha ,\n",
            "Valdeolmos-Alalpardo ,\n",
            "Guadalix de la Sierra ,\n",
            "Belmonte de Tajo ,\n",
            "El Vellón ,\n",
            "Brunete ,\n",
            "Redueña ,\n",
            "Morata de Tajuña ,\n",
            "Tielmes ,\n",
            "Gargantilla del Lozoya ,\n",
            "Meco ,\n",
            "Venturada ,\n",
            "Quijorna ,\n",
            "Cenicientos ,\n",
            "Torrejón de Velasco ,\n",
            "Navacerrada ,\n",
            "Santa María de la Alameda ,\n",
            "Orusco de Tajuña ,\n",
            "Daganzo de Arriba ,\n",
            "Villamanta ,\n",
            "Anchuelo ,\n",
            "Valdaracete ,\n",
            "Ajalvir ,\n",
            "Los Santos de la Humosa ,\n",
            "Villamanrique de Tajo ,\n",
            "Colmenar de Oreja ,\n",
            "Villa del Prado ,\n",
            "Fuentidueña de Tajo ,\n",
            "Colmenar del Arroyo ,\n",
            "Valdelaguna ,\n",
            "Cubas de la Sagra ,\n",
            "Valdeavero ,\n",
            "Aldea del Fresno ,\n",
            "Ribatejada ,\n",
            "Torrelaguna ,\n",
            "Batres ,\n",
            "Pezuela de las Torres ,\n",
            "Colmenarejo ,\n",
            "Serranillos del Valle ,\n",
            "Cobeña ,\n",
            "Soto del Real ,\n",
            "El Berrueco ,\n",
            "Villanueva de Perales ,\n",
            "Fresno de Torote - Serracines ,\n",
            "Pozuelo del Rey ,\n",
            "Pelayos de la Presa ,\n",
            "La Cabrera ,\n",
            "Nuevo Baztán ,\n",
            "Perales de Tajuña ,\n",
            "Villaconejos ,\n",
            "Villarejo de Salvanés ,\n",
            "Cadalso de los Vidrios ,\n",
            "Santorcaz ,\n",
            "Madarcos ,\n",
            "Garganta de los Montes ,\n",
            "Puentes Viejas ,\n",
            "Torremocha de Jarama ,\n",
            "Valdemanco ,\n",
            "Braojos ,\n",
            "Lozoyuela-navas-sieteiglesias ,\n",
            "Piñuécar-gandullas ,\n",
            "Valdepiélagos ,\n",
            "Valverde de Alcalá ,\n",
            "Villar del Olmo ,\n",
            "Villamantilla ,\n",
            "Horcajo de la Sierra ,\n",
            "Gascones ,\n",
            "Zarzalejo ,\n",
            "Villavieja del Lozoya ,\n",
            "Brea de Tajo ,\n",
            "Estremera ,\n",
            "Chapinería ,\n",
            "Navarredonda ,\n",
            "Patones ,\n",
            "Ambite ,\n",
            "Navalafuente ,\n",
            "Lozoya ,\n",
            "Canencia ,\n",
            "Cabanillas de la Sierra ,\n",
            "Buitrago del Lozoya ,\n",
            "Fresno de Torote ,\n",
            "Robregordo ,\n",
            "Pinilla del Valle ,\n",
            "Rascafría ,\n",
            "La Hiruela ,\n",
            "Montejo de la Sierra ,\n"
          ]
        }
      ],
      "source": [
        "# TODO\n",
        "poblaciones = ds['level5'].unique()\n",
        "cantpob = len(poblaciones)\n",
        "print('El Dataset contiene '+str(cantpob)+' poblaciones')\n",
        "for i in range(cantpob):\n",
        "    print(poblaciones[i],',')"
      ]
    },
    {
      "attachments": {},
      "cell_type": "markdown",
      "id": "crazy-blame",
      "metadata": {},
      "source": [
        "#### Ejercicio 05. ¿El dataset contiene valores no admitidos (NAs)? (★☆☆)\n",
        "\n",
        "Imprima un booleano (`True` o `False`) seguido de la fila/columna que contiene el NAs."
      ]
    },
    {
      "cell_type": "code",
      "execution_count": 7,
      "id": "transparent-poetry",
      "metadata": {},
      "outputs": [
        {
          "name": "stdout",
          "output_type": "stream",
          "text": [
            "True en la columna realEstate_name\n"
          ]
        }
      ],
      "source": [
        "# TODO\n",
        "contieneNAs = ds.isnull().values.any()\n",
        "nan_columns = ds.columns[ds.isnull().any()][0]\n",
        "if contieneNAs:\n",
        "    print('True en la columna '+nan_columns) \n",
        "else: print(contieneNAs) "
      ]
    },
    {
      "attachments": {},
      "cell_type": "markdown",
      "id": "italic-hydrogen",
      "metadata": {},
      "source": [
        "#### Ejercicio 06. Elimina los NAs del dataset, si aplica (★★☆)\n",
        "\n",
        "Imprima una comparación entre las dimensiones del DataFrame original versus el DataFrame después de las eliminaciones.\n"
      ]
    },
    {
      "cell_type": "code",
      "execution_count": 8,
      "id": "administrative-roads",
      "metadata": {},
      "outputs": [
        {
          "name": "stdout",
          "output_type": "stream",
          "text": [
            "El DataFrame original es de 15335 filas y 37 columnas\n",
            "El DataFrame despues de las eliminaciones es de 0 filas y 37 columnas\n"
          ]
        }
      ],
      "source": [
        "# TODO\n",
        "print('El DataFrame original es de '+ str(ds.shape[0])+' filas y '+str(ds.shape[1])+' columnas')\n",
        "dslimpio = ds.dropna()\n",
        "print('El DataFrame despues de las eliminaciones es de '+ str(dslimpio.shape[0])+' filas y '+str(dslimpio.shape[1])+' columnas')"
      ]
    },
    {
      "attachments": {},
      "cell_type": "markdown",
      "id": "middle-china",
      "metadata": {},
      "source": [
        "#### Ejercicio 07. ¿Cuál la media de precios en la población (columna level5) de \"Arroyomolinos (Madrid)\"? (★★☆)\n",
        "\n",
        "Imprima el valor obtenido."
      ]
    },
    {
      "cell_type": "code",
      "execution_count": 9,
      "id": "nuclear-belief",
      "metadata": {},
      "outputs": [
        {
          "name": "stdout",
          "output_type": "stream",
          "text": [
            "La media de precios de Arroyomolinos (Madrid) es de 294541.59854014596\n"
          ]
        }
      ],
      "source": [
        "# TODO\n",
        "preciosarroyomolinos = []\n",
        "columnalevel5 = ds[\"level5\"]\n",
        "for i in range(len(columnalevel5)):\n",
        "    if (columnalevel5[i]==\"Arroyomolinos (Madrid)\"):\n",
        "        preciosarroyomolinos.append(ds.iloc[i,9])   \n",
        "media = np.mean(preciosarroyomolinos)       \n",
        "print('La media de precios de Arroyomolinos (Madrid) es de '+str(media))"
      ]
    },
    {
      "attachments": {},
      "cell_type": "markdown",
      "id": "concerned-radical",
      "metadata": {},
      "source": [
        "#### Ejercicio 08. Trazar el histograma de los precios para la población (level5 column) de \"Arroyomolinos (Madrid)\" y explica qué observas (★★☆)\n",
        "\n",
        "Imprime el histograma de los precios y escribe en la celda del Markdown un breve análisis del trazado.\n"
      ]
    },
    {
      "cell_type": "code",
      "execution_count": 10,
      "id": "sudden-message",
      "metadata": {},
      "outputs": [
        {
          "data": {
            "image/png": "[encoded data removed]",
            "text/plain": [
              "<Figure size 1000x500 with 1 Axes>"
            ]
          },
          "metadata": {},
          "output_type": "display_data"
        }
      ],
      "source": [
        "plt.figure(figsize=(10,5))\n",
        "plt.hist(preciosarroyomolinos);"
      ]
    },
    {
      "cell_type": "markdown",
      "id": "d8bec22c",
      "metadata": {},
      "source": [
        "La mayoria de los precios estan entre 200.000 y 400.000 USD. Se confirma que la media esta por los 300.000 USD. Debe haber errores con los precios de 0 o cercanos a 0 y pueden haber precios mayores a lo normal que casi llegan a los 600.000 USD"
      ]
    },
    {
      "attachments": {},
      "cell_type": "markdown",
      "id": "impressed-combination",
      "metadata": {},
      "source": [
        "**TODO: Markdown**. Para escribir aquí, haz doble clic en esta celda, elimina este contenido y coloca lo que quieras escribir. Luego ejecuta la celda."
      ]
    },
    {
      "attachments": {},
      "cell_type": "markdown",
      "id": "actual-edinburgh",
      "metadata": {},
      "source": [
        "#### Ejercicio 09. ¿Son los precios promedios de \"Valdemorillo\" y \"Galapagar\" los mismos? (★★☆)\n",
        "\n",
        "Imprime ambos promedios y escribe una conclusión sobre ellos."
      ]
    },
    {
      "cell_type": "code",
      "execution_count": 11,
      "id": "numeric-commerce",
      "metadata": {},
      "outputs": [
        {
          "name": "stdout",
          "output_type": "stream",
          "text": [
            "Los precios promedio son diferentes, el de Valdemorillo es de 363860.2931034483 y el de Galapagar es de 360063.20238095237\n"
          ]
        }
      ],
      "source": [
        "# TODO\n",
        "preciosvaldemorillo = []\n",
        "preciosgalapagar = []\n",
        "columnalevel5 = ds[\"level5\"]\n",
        "for i in range(len(columnalevel5)):\n",
        "    if (columnalevel5[i]==\"Valdemorillo\"):\n",
        "        preciosvaldemorillo.append(ds.iloc[i,9]) \n",
        "    elif (columnalevel5[i]==\"Galapagar\"):\n",
        "        preciosgalapagar.append(ds.iloc[i,9])  \n",
        "mediavaldemorillo = np.mean(preciosvaldemorillo)          \n",
        "mediagalapagar = np.mean(preciosgalapagar)       \n",
        "if mediavaldemorillo == mediagalapagar:\n",
        "    print('Los precios promedio de Valdemorillo son los mismos y es de '+str(mediavaldemorillo))\n",
        "else: print('Los precios promedio son diferentes, el de Valdemorillo es de '+str(mediavaldemorillo)+ ' y el de Galapagar es de ' + str(mediagalapagar))    "
      ]
    },
    {
      "attachments": {},
      "cell_type": "markdown",
      "id": "lonely-article",
      "metadata": {},
      "source": [
        "#### Ejercicio 10. ¿Son los promedios de precio por metro cuadrado (precio/m2) de \"Valdemorillo\" y \"Galapagar\" los mismos? (★★☆)\n",
        "\n",
        "Imprime ambos promedios de precio por metro cuadrado y escribe una conclusión sobre ellos.\n",
        "\n",
        "Pista: Crea una nueva columna llamada `pps` (*price per square* o precio por metro cuadrado) y luego analiza los valores."
      ]
    },
    {
      "cell_type": "code",
      "execution_count": 12,
      "id": "hourly-globe",
      "metadata": {},
      "outputs": [
        {
          "name": "stdout",
          "output_type": "stream",
          "text": [
            "nan\n",
            "nan\n",
            "Los precios promedio son diferentes, el de Valdemorillo es de nan y el de Galapagar es de nan\n"
          ]
        }
      ],
      "source": [
        "# TODO\n",
        "ds[\"pps\"] = ds[\"price\"]/ds[\"surface\"]\n",
        "#ds[\"pps\"]=pps\n",
        "ppsvaldemorillo = []\n",
        "ppsgalapagar = []\n",
        "columnalevel5 = ds[\"level5\"]\n",
        "for i in range(len(columnalevel5)):\n",
        "    if (columnalevel5[i]==\"Valdemorillo\"):# and not(np.any(ds[\"pps\"][i])) :\n",
        "        ppsvaldemorillo.append(ds.iloc[i,37]) \n",
        "    elif (columnalevel5[i]==\"Galapagar\"):# and not(np.any(ds[\"pps\"][i])):\n",
        "        ppsgalapagar.append(ds.iloc[i,37]) \n",
        "\n",
        "mediavaldemorillo = np.mean(ppsvaldemorillo)   \n",
        "print(mediavaldemorillo)       \n",
        "mediagalapagar = np.mean(ppsgalapagar)      \n",
        "print(mediagalapagar) \n",
        "if mediavaldemorillo == mediagalapagar:\n",
        "    print('Los precios promedio de Valdemorillo son los mismos y es de '+str(mediavaldemorillo))\n",
        "else: print('Los precios promedio son diferentes, el de Valdemorillo es de '+str(mediavaldemorillo)+ ' y el de Galapagar es de ' + str(mediagalapagar))    \n"
      ]
    },
    {
      "attachments": {},
      "cell_type": "markdown",
      "id": "pleasant-invite",
      "metadata": {},
      "source": [
        "#### Ejercicio 11. Analiza la relación entre la superficie y el precio de las casas. (★★☆)\n",
        "\n",
        "Pista: Puedes hacer un `scatter plot` y luego escribir una conclusión al respecto."
      ]
    },
    {
      "cell_type": "code",
      "execution_count": 13,
      "id": "common-drilling",
      "metadata": {},
      "outputs": [
        {
          "data": {
            "image/png": "[encoded data removed]",
            "text/plain": [
              "<Figure size 640x480 with 1 Axes>"
            ]
          },
          "metadata": {},
          "output_type": "display_data"
        }
      ],
      "source": [
        "# TODO:\n",
        "listsurface = ds[\"surface\"].values\n",
        "listprices = ds[\"price\"].values\n",
        "plt.scatter(listprices,listsurface);"
      ]
    },
    {
      "attachments": {},
      "cell_type": "markdown",
      "id": "ahead-liquid",
      "metadata": {},
      "source": [
        "**TODO: Markdown**. Para escribir aquí, haz doble clic en esta celda, elimina este contenido y coloca lo que quieras escribir. Luego ejecuta la celda."
      ]
    },
    {
      "attachments": {},
      "cell_type": "markdown",
      "id": "coordinate-sunrise",
      "metadata": {},
      "source": [
        "#### Ejercicio 12. ¿Cuántas agencia de bienes raíces contiene el dataset? (★★☆)\n",
        "\n",
        "Imprime el valor obtenido."
      ]
    },
    {
      "cell_type": "code",
      "execution_count": 14,
      "id": "valid-honolulu",
      "metadata": {},
      "outputs": [
        {
          "name": "stdout",
          "output_type": "stream",
          "text": [
            "El dataset contiene 14217 agencias\n"
          ]
        }
      ],
      "source": [
        "# TODO\n",
        "agencias = len(ds[\"id_realEstates\"].unique())\n",
        "print(\"El dataset contiene \"+str(agencias)+' agencias')"
      ]
    },
    {
      "attachments": {},
      "cell_type": "markdown",
      "id": "binding-ebony",
      "metadata": {},
      "source": [
        "#### Ejercicio 13. ¿Cuál es la población (columna level5) que contiene la mayor cantidad de casas?(★★☆)\n",
        "\n",
        "Imprima la población y el número de casas."
      ]
    },
    {
      "cell_type": "code",
      "execution_count": 16,
      "id": "static-perry",
      "metadata": {},
      "outputs": [
        {
          "name": "stdout",
          "output_type": "stream",
          "text": [
            "La mayor cantidad de casas esta en la poblacion de Z con 6643 casas\n"
          ]
        }
      ],
      "source": [
        "# TODO\n",
        "poblacionmayor = ds[\"level5\"].unique().max()\n",
        "cantcasas = ds[\"level5\"].value_counts().max()\n",
        "print('La mayor cantidad de casas esta en la poblacion de '+str(poblacionmayor[0])+' con '+str(cantcasas)+' casas')"
      ]
    },
    {
      "attachments": {},
      "cell_type": "markdown",
      "id": "entire-classification",
      "metadata": {},
      "source": [
        "#### Ejercicio 14. Ahora vamos a trabajar con el \"cinturón sur\" de Madrid. Haz un subconjunto del DataFrame original que contenga las siguientes poblaciones (columna level5): \"Fuenlabrada\", \"Leganés\", \"Getafe\", \"Alcorcón\" (★★☆)\n",
        "\n",
        "Pista: Filtra el DataFrame original usando la columna `level5` y la función `isin`."
      ]
    },
    {
      "cell_type": "code",
      "execution_count": 3,
      "id": "binary-input",
      "metadata": {},
      "outputs": [],
      "source": [
        "# TODO\n",
        "lista = [\"Fuenlabrada\",\"Leganés\",\"Getafe\",\"Alcorcón\"]\n",
        "subds = ds[ds[\"level5\"].isin(lista)]\n"
      ]
    },
    {
      "attachments": {},
      "cell_type": "markdown",
      "id": "severe-fisher",
      "metadata": {},
      "source": [
        "#### Ejercicio 15. Traza un gráfico de barras de la mediana de los precios y explica lo que observas (debes usar el subconjunto obtenido del Ejercicio 14) (★★★)\n",
        "\n",
        "Imprima un gráfico de barras de la mediana de precios y escriba en la celda Markdown un breve análisis sobre el gráfico."
      ]
    },
    {
      "cell_type": "code",
      "execution_count": 17,
      "id": "lyric-bunch",
      "metadata": {},
      "outputs": [
        {
          "data": {
            "image/png": "[encoded data removed]",
            "text/plain": [
              "<Figure size 640x480 with 1 Axes>"
            ]
          },
          "metadata": {},
          "output_type": "display_data"
        }
      ],
      "source": [
        "# TODO: Code\n",
        "#medianas = subds[subds.groupby(\"level5\")[\"price\"].median()][\"price\"]\n",
        "medianas=subds['price'].median()\n",
        "labels = subds[\"level5\"]\n",
        "plt.bar(labels,medianas);"
      ]
    },
    {
      "cell_type": "markdown",
      "id": "85946068",
      "metadata": {},
      "source": [
        "De acuerdo a la grafica se puede ver que la mediana en estas localidades en especifico es igual"
      ]
    },
    {
      "attachments": {},
      "cell_type": "markdown",
      "id": "sublime-newspaper",
      "metadata": {},
      "source": [
        "**TODO: Markdown**. Para escribir aquí, haz doble clic en esta celda, elimina este contenido y coloca lo que quieras escribir. Luego ejecuta la celda."
      ]
    },
    {
      "attachments": {},
      "cell_type": "markdown",
      "id": "speaking-diamond",
      "metadata": {},
      "source": [
        "#### Ejercicio 16. Calcula la media y la varianza de muestra para las siguientes variables: precio, habitaciones, superficie y baños (debes usar el subconjunto obtenido del Ejercicio 14) (★★★)\n",
        "\n",
        "Imprime ambos valores por cada variable."
      ]
    },
    {
      "cell_type": "code",
      "execution_count": 18,
      "id": "random-feeling",
      "metadata": {},
      "outputs": [
        {
          "name": "stdout",
          "output_type": "stream",
          "text": [
            "La media del precio es 223094.48070562293\n",
            "La varianza del precio es 14921367508.04902\n",
            "La media de las habitaciones es 3.0177383592017737\n",
            "La varianza de las habitaciones es 0.7188858892927542\n",
            "La media de la superficie es 111.75222363405337\n",
            "La varianza de la superficie es 4263.051760316337\n",
            "La media de los baños es 1.633221850613155\n",
            "La varianza de los baños es 0.5717968625577321\n"
          ]
        }
      ],
      "source": [
        "# TODO\n",
        "print('La media del precio es '+str(subds[\"price\"].mean()))\n",
        "print('La varianza del precio es '+str(subds[\"price\"].var()))\n",
        "print('La media de las habitaciones es '+str(subds[\"rooms\"].mean()))\n",
        "print('La varianza de las habitaciones es '+str(subds[\"rooms\"].var()))\n",
        "print('La media de la superficie es '+str(subds[\"surface\"].mean()))\n",
        "print('La varianza de la superficie es '+str(subds[\"surface\"].var()))\n",
        "print('La media de los baños es '+str(subds[\"bathrooms\"].mean()))\n",
        "print('La varianza de los baños es '+str(subds[\"bathrooms\"].var()))\n",
        "\n"
      ]
    },
    {
      "attachments": {},
      "cell_type": "markdown",
      "id": "revolutionary-matrix",
      "metadata": {},
      "source": [
        "#### Ejercicio 17. ¿Cuál es la casa más cara de cada población? Debes usar el subset obtenido en la pregunta 14 (★★☆)\n",
        "\n",
        "Imprime tanto la dirección como el precio de la casa seleccionada de cada población. Puedes imprimir un DataFrame o una sola línea para cada población."
      ]
    },
    {
      "cell_type": "code",
      "execution_count": 19,
      "id": "fifteen-browse",
      "metadata": {},
      "outputs": [
        {
          "name": "stdout",
          "output_type": "stream",
          "text": [
            "level5\n",
            "Alcorcón        950000\n",
            "Fuenlabrada     490000\n",
            "Getafe         1050000\n",
            "Leganés         650000\n",
            "Name: price, dtype: int64\n"
          ]
        }
      ],
      "source": [
        "# TODO\n",
        "print(subds.groupby('level5')['price'].max())"
      ]
    },
    {
      "attachments": {},
      "cell_type": "markdown",
      "id": "activated-knight",
      "metadata": {},
      "source": [
        "#### Ejercicio 18. Normaliza la variable de precios para cada población y traza los 4 histogramas en el mismo gráfico (debes usar el subconjunto obtenido en la pregunta 14) (★★★)\n",
        "\n",
        "Para el método de normalización, puedes usar el que consideres adecuado, no hay una única respuesta correcta para esta pregunta. Imprime el gráfico y escribe en la celda de Markdown un breve análisis sobre el gráfico.\n",
        "\n",
        "Pista: Puedes ayudarte revisando la demostración multihist de Matplotlib."
      ]
    },
    {
      "cell_type": "code",
      "execution_count": 20,
      "id": "civic-meditation",
      "metadata": {},
      "outputs": [
        {
          "data": {
            "image/png": "[encoded data removed]",
            "text/plain": [
              "<Figure size 640x480 with 4 Axes>"
            ]
          },
          "metadata": {},
          "output_type": "display_data"
        }
      ],
      "source": [
        "# TODO\n",
        "scaler = MinMaxScaler()\n",
        "preciosalcorcon = scaler.fit_transform(subds[subds['level5']==\"Alcorcón\"][\"price\"].values.reshape(-1,1))\n",
        "preciosfuenlabrada = scaler.fit_transform(subds[subds['level5']==\"Fuenlabrada\"][\"price\"].values.reshape(-1,1))\n",
        "preciosleganes = scaler.fit_transform(subds[subds['level5']==\"Leganés\"][\"price\"].values.reshape(-1,1))\n",
        "preciosgetafe = scaler.fit_transform(subds[subds['level5']==\"Getafe\"][\"price\"].values.reshape(-1,1))\n",
        "fig, ((ax0, ax1), (ax2, ax3)) = plt.subplots(nrows=2, ncols=2)\n",
        "\n",
        "ax0.hist(preciosalcorcon,bins=10)\n",
        "ax0.set_title('Alarcon')\n",
        "ax1.hist(preciosfuenlabrada,bins=10)\n",
        "ax1.set_title('Fuenlabrada')\n",
        "ax2.hist(preciosleganes,bins=10)\n",
        "ax2.set_title('Leganes')\n",
        "ax3.hist(preciosgetafe,bins=10)\n",
        "ax3.set_title('Getafe')\n",
        "\n",
        "fig.tight_layout()\n",
        "plt.show()\n"
      ]
    },
    {
      "attachments": {},
      "cell_type": "markdown",
      "id": "precise-heavy",
      "metadata": {},
      "source": [
        "**TODO: Markdown**. Para escribir aquí, haz doble clic en esta celda, elimina este contenido y coloca lo que quieras escribir. Luego ejecuta la celda."
      ]
    },
    {
      "attachments": {},
      "cell_type": "markdown",
      "id": "patent-jonathan",
      "metadata": {},
      "source": [
        "#### Ejercicio 19. ¿Qué puedes decir sobre el precio por metro cuadrado (precio/m2) entre los municipios de 'Getafe' y 'Alcorcón'? Debes usar el subconjunto obtenido en la pregunta 14 (★★☆)\n",
        "\n",
        "Pista: Crea una nueva columna llamada `pps` (price per square en inglés) y luego analiza los valores"
      ]
    },
    {
      "cell_type": "code",
      "execution_count": 21,
      "id": "initial-liverpool",
      "metadata": {},
      "outputs": [
        {
          "name": "stderr",
          "output_type": "stream",
          "text": [
            "/tmp/ipykernel_1713/1236152489.py:2: SettingWithCopyWarning: \n",
            "A value is trying to be set on a copy of a slice from a DataFrame.\n",
            "Try using .loc[row_indexer,col_indexer] = value instead\n",
            "\n",
            "See the caveats in the documentation: https://pandas.pydata.org/pandas-docs/stable/user_guide/indexing.html#returning-a-view-versus-a-copy\n",
            "  subds[\"pps\"] = subds[\"price\"]/subds[\"surface\"]\n"
          ]
        },
        {
          "data": {
            "image/png": "[encoded data removed]",
            "text/plain": [
              "<Figure size 640x480 with 2 Axes>"
            ]
          },
          "metadata": {},
          "output_type": "display_data"
        }
      ],
      "source": [
        "# TODO\n",
        "subds[\"pps\"] = subds[\"price\"]/subds[\"surface\"]\n",
        "ppsgetafe = subds[subds[\"level5\"]=='Getafe']['pps']\n",
        "ppsalcorcon = subds[subds[\"level5\"]=='Alcorcón']['pps']\n",
        "\n",
        "fig, ((ax0, ax1)) = plt.subplots(nrows=1, ncols=2)\n",
        "\n",
        "ax0.hist(ppsgetafe,bins=10)\n",
        "ax0.set_title('Getafe')\n",
        "ax1.hist(ppsalcorcon,bins=10)\n",
        "ax1.set_title('Alcorcon')\n",
        "\n",
        "fig.tight_layout()\n",
        "plt.show();"
      ]
    },
    {
      "attachments": {},
      "cell_type": "markdown",
      "id": "enhanced-moscow",
      "metadata": {},
      "source": [
        "#### Ejercicio 20. Realiza el mismo gráfico para 4 poblaciones diferentes (columna level5) y colócalos en el mismo gráfico. Debes usar el subconjunto obtenido en la pregunta 14 (★★☆) \n",
        "Pista: Haz un diagrama de dispersión de cada población usando subgráficos (subplots)."
      ]
    },
    {
      "cell_type": "code",
      "execution_count": 22,
      "id": "accepting-airfare",
      "metadata": {},
      "outputs": [
        {
          "data": {
            "image/png": "[encoded data removed]",
            "text/plain": [
              "<Figure size 640x480 with 4 Axes>"
            ]
          },
          "metadata": {},
          "output_type": "display_data"
        }
      ],
      "source": [
        "# TODO\n",
        "fig, ((ax0,ax1), (ax2,ax3)) = plt.subplots(nrows=2, ncols=2)\n",
        "surfacegetafe = subds[subds[\"level5\"]=='Getafe']['surface']\n",
        "surfacealcorcon = subds[subds[\"level5\"]=='Alcorcón']['surface']\n",
        "ppsfuenlabrada = subds[subds[\"level5\"]=='Fuenlabrada']['pps']\n",
        "surfacefuenlabrada = subds[subds[\"level5\"]=='Fuenlabrada']['surface']\n",
        "ppsleganes = subds[subds[\"level5\"]=='Leganés']['pps']\n",
        "surfaceleganes = subds[subds[\"level5\"]=='Leganés']['surface']\n",
        "\n",
        "ax0.scatter(ppsalcorcon,surfacealcorcon,label='Alcorcon')\n",
        "ax1.scatter(ppsgetafe,surfacegetafe,label='Getafe',color='green')\n",
        "ax2.scatter(ppsfuenlabrada,surfacefuenlabrada,label=\"Fuenlabrada\",color='red')\n",
        "ax3.scatter(ppsleganes,surfaceleganes,label=\"Leganes\",color='blue')\n",
        "\n",
        "fig.tight_layout()\n",
        "plt.show()"
      ]
    },
    {
      "attachments": {},
      "cell_type": "markdown",
      "id": "blocked-effects",
      "metadata": {},
      "source": [
        "#### Ejercicio 21. Realiza un trazado de las coordenadas (columnas latitud y longitud) del cinturón sur de Madrid por color de cada población (debes usar el subconjunto obtenido del Ejercicio 14) (★★★★)\n",
        "\n",
        "Ejecuta la siguiente celda y luego comienza a codear en la siguiente. Debes implementar un código simple que transforme las columnas de coordenadas en un diccionario de Python (agrega más información si es necesario) y agrégala al mapa."
      ]
    },
    {
      "cell_type": "code",
      "execution_count": 4,
      "id": "headed-privacy",
      "metadata": {},
      "outputs": [
        {
          "data": {
            "application/vnd.jupyter.widget-view+json": {
              "model_id": "4829b9ed17084fdbb73308fb096f3420",
              "version_major": 2,
              "version_minor": 0
            },
            "text/plain": [
              "Map(center=[60, -2.2], controls=(ZoomControl(options=['position', 'zoom_in_text', 'zoom_in_title', 'zoom_out_t…"
            ]
          },
          "execution_count": 4,
          "metadata": {},
          "output_type": "execute_result"
        }
      ],
      "source": [
        "from ipyleaflet import Map, basemaps, Marker\n",
        "\n",
        "# Mapa centrado en (60 grados latitud y -2.2 grados longitud)\n",
        "# Latitud, longitud\n",
        "map = Map(center = (60, -2.2), zoom = 2, min_zoom = 1, max_zoom = 20)\n",
        "    #basemap=basemaps.Stamen.Terrain)\n",
        "map\n",
        "\n"
      ]
    },
    {
      "cell_type": "code",
      "execution_count": null,
      "id": "present-mistress",
      "metadata": {},
      "outputs": [
        {
          "data": {
            "application/vnd.jupyter.widget-view+json": {
              "model_id": "4829b9ed17084fdbb73308fb096f3420",
              "version_major": 2,
              "version_minor": 0
            },
            "text/plain": [
              "Map(bottom=12512.0, center=[40.78054143186033, -3.0248117871383573], controls=(ZoomControl(options=['position'…"
            ]
          },
          "execution_count": 15,
          "metadata": {},
          "output_type": "execute_result"
        }
      ],
      "source": [
        "## Aquí: traza la coordenadas de los estados\n",
        "\n",
        "## PON TU CÓDIGO AQUÍ:\n",
        "coordenadas = dict(zip(subds['latitude'], subds['longitude']))\n",
        "#print(coordenadas)\n",
        "for (x,y) in coordenadas.items():\n",
        "    marker = Marker(location=[x.replace(',','.'),y.replace(',','.')], draggable=False)\n",
        "    map.add(marker);\n",
        "\n",
        "map"
      ]
    }
  ],
  "metadata": {
    "kernelspec": {
      "display_name": "Python 3",
      "language": "python",
      "name": "python3"
    },
    "language_info": {
      "codemirror_mode": {
        "name": "ipython",
        "version": 3
      },
      "file_extension": ".py",
      "mimetype": "text/x-python",
      "name": "python",
      "nbconvert_exporter": "python",
      "pygments_lexer": "ipython3",
      "version": "3.11.4"
    }
  },
  "nbformat": 4,
  "nbformat_minor": 5
}
